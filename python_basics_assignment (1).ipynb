{
 "cells": [
  {
   "cell_type": "markdown",
   "id": "d2328cad",
   "metadata": {},
   "source": [
    "# Python Basics Assignment\n",
    "\n",
    "This notebook contains 20 basic Python questions.  \n",
    "Each question carries **1 mark**. Write your answer in the cell provided.  \n"
   ]
  },
  {
   "cell_type": "markdown",
   "id": "cb537954",
   "metadata": {},
   "source": [
    "### Question 1\n",
    "Write a function that returns the square of a number."
   ]
  },
  {
   "cell_type": "code",
   "execution_count": 1,
   "id": "cf213ba2",
   "metadata": {},
   "outputs": [],
   "source": [
    "def square_number(x):\n",
    "    \n",
    " return x**2"
   ]
  },
  {
   "cell_type": "code",
   "execution_count": 2,
   "id": "16ceb46c",
   "metadata": {},
   "outputs": [
    {
     "data": {
      "text/plain": [
       "49"
      ]
     },
     "execution_count": 2,
     "metadata": {},
     "output_type": "execute_result"
    }
   ],
   "source": [
    "square_number(7)"
   ]
  },
  {
   "cell_type": "markdown",
   "id": "4eaff430",
   "metadata": {},
   "source": [
    "### Question 2\n",
    "Write a function that checks whether a number is even."
   ]
  },
  {
   "cell_type": "code",
   "execution_count": 3,
   "id": "81934cf7",
   "metadata": {},
   "outputs": [],
   "source": [
    "def even(x):\n",
    "    return x%2 == 0\n"
   ]
  },
  {
   "cell_type": "code",
   "execution_count": 4,
   "id": "bc0fc899",
   "metadata": {},
   "outputs": [
    {
     "data": {
      "text/plain": [
       "False"
      ]
     },
     "execution_count": 4,
     "metadata": {},
     "output_type": "execute_result"
    }
   ],
   "source": [
    "even(7)"
   ]
  },
  {
   "cell_type": "markdown",
   "id": "5f061e50",
   "metadata": {},
   "source": [
    "### Question 3\n",
    "Write a function to return the maximum of two numbers."
   ]
  },
  {
   "cell_type": "code",
   "execution_count": 5,
   "id": "44e2a596",
   "metadata": {},
   "outputs": [],
   "source": [
    "# Your code here\n",
    "def your_function_3():\n",
    "    pass"
   ]
  },
  {
   "cell_type": "code",
   "execution_count": 6,
   "id": "d7289567",
   "metadata": {},
   "outputs": [],
   "source": [
    "def max_number(a,b):\n",
    "   if a>b:\n",
    "    return a\n",
    "   else:\n",
    "        return b"
   ]
  },
  {
   "cell_type": "code",
   "execution_count": 7,
   "id": "ceca868c",
   "metadata": {},
   "outputs": [
    {
     "data": {
      "text/plain": [
       "9"
      ]
     },
     "execution_count": 7,
     "metadata": {},
     "output_type": "execute_result"
    }
   ],
   "source": [
    "max_number(6,9)"
   ]
  },
  {
   "cell_type": "markdown",
   "id": "7513ca91",
   "metadata": {},
   "source": [
    "### Question 4\n",
    "Write a function to return the factorial of a number."
   ]
  },
  {
   "cell_type": "code",
   "execution_count": 8,
   "id": "6617842f",
   "metadata": {},
   "outputs": [],
   "source": [
    "# Your code here\n",
    "def your_function_4():\n",
    "    pass"
   ]
  },
  {
   "cell_type": "code",
   "execution_count": 9,
   "id": "344d37dd",
   "metadata": {},
   "outputs": [],
   "source": [
    "def factorial(n):\n",
    "    if n<0:\n",
    "        return \"no factorial for negative numbers\"\n",
    "    elif n==0 or n==1:\n",
    "        return 1\n",
    "    else:\n",
    "        result = 1\n",
    "        for i in range(2,n+1):\n",
    "            result *= i\n",
    "        return result\n"
   ]
  },
  {
   "cell_type": "code",
   "execution_count": 10,
   "id": "ea2a6f33",
   "metadata": {},
   "outputs": [
    {
     "data": {
      "text/plain": [
       "40320"
      ]
     },
     "execution_count": 10,
     "metadata": {},
     "output_type": "execute_result"
    }
   ],
   "source": [
    "factorial(8)"
   ]
  },
  {
   "cell_type": "code",
   "execution_count": 11,
   "id": "42bd3952",
   "metadata": {},
   "outputs": [
    {
     "data": {
      "text/plain": [
       "1"
      ]
     },
     "execution_count": 11,
     "metadata": {},
     "output_type": "execute_result"
    }
   ],
   "source": [
    "factorial(0)"
   ]
  },
  {
   "cell_type": "code",
   "execution_count": 12,
   "id": "2d11bef7",
   "metadata": {},
   "outputs": [
    {
     "data": {
      "text/plain": [
       "1"
      ]
     },
     "execution_count": 12,
     "metadata": {},
     "output_type": "execute_result"
    }
   ],
   "source": [
    "factorial(1)"
   ]
  },
  {
   "cell_type": "code",
   "execution_count": 13,
   "id": "d31e5550",
   "metadata": {},
   "outputs": [
    {
     "data": {
      "text/plain": [
       "'no factorial for negative numbers'"
      ]
     },
     "execution_count": 13,
     "metadata": {},
     "output_type": "execute_result"
    }
   ],
   "source": [
    "factorial(-7)"
   ]
  },
  {
   "cell_type": "markdown",
   "id": "9b942098",
   "metadata": {},
   "source": [
    "### Question 5\n",
    "Write a function to reverse a string."
   ]
  },
  {
   "cell_type": "code",
   "execution_count": 14,
   "id": "d606b194",
   "metadata": {},
   "outputs": [],
   "source": [
    "# Your code here\n",
    "def your_function_5():\n",
    "    pass"
   ]
  },
  {
   "cell_type": "code",
   "execution_count": 15,
   "id": "2c5987ac",
   "metadata": {},
   "outputs": [],
   "source": [
    "def reverse_string(x):\n",
    "    return x [::-1]"
   ]
  },
  {
   "cell_type": "code",
   "execution_count": null,
   "id": "0380ce7f",
   "metadata": {},
   "outputs": [
    {
     "data": {
      "text/plain": [
       "'gninrom doog'"
      ]
     },
     "execution_count": 16,
     "metadata": {},
     "output_type": "execute_result"
    }
   ],
   "source": [
    "reverse_string(\"good morning\")``"
   ]
  },
  {
   "cell_type": "markdown",
   "id": "1abd915b",
   "metadata": {},
   "source": [
    "### Question 6\n",
    "Write a function to check if a string is a palindrome."
   ]
  },
  {
   "cell_type": "code",
   "execution_count": 17,
   "id": "2b868fb3",
   "metadata": {},
   "outputs": [],
   "source": [
    "# Your code here\n",
    "def your_function_6():\n",
    "    pass"
   ]
  },
  {
   "cell_type": "code",
   "execution_count": 18,
   "id": "699f0ccc",
   "metadata": {},
   "outputs": [],
   "source": [
    "def palindrome(x):\n",
    "    return x==x[::-1]"
   ]
  },
  {
   "cell_type": "code",
   "execution_count": 19,
   "id": "a10289ed",
   "metadata": {},
   "outputs": [
    {
     "name": "stdout",
     "output_type": "stream",
     "text": [
      "text is palindrome\n"
     ]
    }
   ],
   "source": [
    "x = \"malayalam\"\n",
    "if palindrome(x):\n",
    "        print(\"text is palindrome\")\n",
    "else:\n",
    "        print(\"text is not a palindrome\")"
   ]
  },
  {
   "cell_type": "code",
   "execution_count": 20,
   "id": "203addd0",
   "metadata": {},
   "outputs": [
    {
     "name": "stdout",
     "output_type": "stream",
     "text": [
      "text is not a palindrome\n"
     ]
    }
   ],
   "source": [
    "x = \"english\"\n",
    "if palindrome(x):\n",
    "        print(\"text is palindrome\")\n",
    "else:\n",
    "        print(\"text is not a palindrome\")"
   ]
  },
  {
   "cell_type": "markdown",
   "id": "5f2f3791",
   "metadata": {},
   "source": [
    "### Question 7\n",
    "Write a function to count vowels in a string."
   ]
  },
  {
   "cell_type": "code",
   "execution_count": 21,
   "id": "73fefa50",
   "metadata": {},
   "outputs": [],
   "source": [
    "# Your code here\n",
    "def your_function_7():\n",
    "    pass"
   ]
  },
  {
   "cell_type": "code",
   "execution_count": 22,
   "id": "eb08e69c",
   "metadata": {},
   "outputs": [],
   "source": [
    "def count_vowels(x):\n",
    "    vowels = \"aeiouAEIOU\"\n",
    "    count = 0\n",
    "    for charecter in x:\n",
    "        if charecter in vowels:\n",
    "            count += 1\n",
    "    return count"
   ]
  },
  {
   "cell_type": "code",
   "execution_count": 23,
   "id": "7b4f9aba",
   "metadata": {},
   "outputs": [
    {
     "data": {
      "text/plain": [
       "4"
      ]
     },
     "execution_count": 23,
     "metadata": {},
     "output_type": "execute_result"
    }
   ],
   "source": [
    "count_vowels(\"good morning\")"
   ]
  },
  {
   "cell_type": "markdown",
   "id": "0d3a9996",
   "metadata": {},
   "source": [
    "### Question 8\n",
    "Write a function that returns the sum of a list."
   ]
  },
  {
   "cell_type": "code",
   "execution_count": 24,
   "id": "ab6afc66",
   "metadata": {},
   "outputs": [],
   "source": [
    "# Your code here\n",
    "def your_function_8():\n",
    "    pass"
   ]
  },
  {
   "cell_type": "code",
   "execution_count": 25,
   "id": "ae6d0525",
   "metadata": {},
   "outputs": [],
   "source": [
    "def sum_of_list(x):\n",
    "    total = 0\n",
    "    for num in x:\n",
    "        total += num\n",
    "    return total"
   ]
  },
  {
   "cell_type": "code",
   "execution_count": 26,
   "id": "2e489642",
   "metadata": {},
   "outputs": [
    {
     "name": "stdout",
     "output_type": "stream",
     "text": [
      "total sum of the ist is 16\n"
     ]
    }
   ],
   "source": [
    "x = [2,3,5,6]\n",
    "print(\"total sum of the ist is\",sum_of_list(x))"
   ]
  },
  {
   "cell_type": "markdown",
   "id": "f6682500",
   "metadata": {},
   "source": [
    "### Question 9\n",
    "Write a function to find the smallest number in a list."
   ]
  },
  {
   "cell_type": "code",
   "execution_count": 27,
   "id": "6798a641",
   "metadata": {},
   "outputs": [],
   "source": [
    "# Your code here\n",
    "def your_function_9():\n",
    "    pass"
   ]
  },
  {
   "cell_type": "code",
   "execution_count": 28,
   "id": "00eac127",
   "metadata": {},
   "outputs": [],
   "source": [
    "def smallest_number(x):\n",
    "    return min(x)"
   ]
  },
  {
   "cell_type": "code",
   "execution_count": 29,
   "id": "d3439774",
   "metadata": {},
   "outputs": [
    {
     "name": "stdout",
     "output_type": "stream",
     "text": [
      "the smallest number is 0\n"
     ]
    }
   ],
   "source": [
    "x = [4,7,9,5,0]\n",
    "print(\"the smallest number is\",smallest_number(x))"
   ]
  },
  {
   "cell_type": "markdown",
   "id": "fb11e683",
   "metadata": {},
   "source": [
    "### Question 10\n",
    "Write a function to remove duplicates from a list."
   ]
  },
  {
   "cell_type": "code",
   "execution_count": 30,
   "id": "7c53f88c",
   "metadata": {},
   "outputs": [],
   "source": [
    "# Your code here\n",
    "def your_function_10():\n",
    "    pass"
   ]
  },
  {
   "cell_type": "code",
   "execution_count": 31,
   "id": "1cfd5949",
   "metadata": {},
   "outputs": [],
   "source": [
    "def remove_duplicates(x):\n",
    "    return list(set(x))"
   ]
  },
  {
   "cell_type": "code",
   "execution_count": 32,
   "id": "639ca6c3",
   "metadata": {},
   "outputs": [
    {
     "name": "stdout",
     "output_type": "stream",
     "text": [
      "list after removing duplicates [3, 4, 5, 7, 8]\n"
     ]
    }
   ],
   "source": [
    "x = [4,5,7,8,7,3,5,8]\n",
    "print(\"list after removing duplicates\",remove_duplicates(x))"
   ]
  },
  {
   "cell_type": "markdown",
   "id": "9c380a5c",
   "metadata": {},
   "source": [
    "### Question 11\n",
    "Write a function to sort a list in ascending order."
   ]
  },
  {
   "cell_type": "code",
   "execution_count": 33,
   "id": "8e43832f",
   "metadata": {},
   "outputs": [],
   "source": [
    "# Your code here\n",
    "def your_function_11():\n",
    "    pass"
   ]
  },
  {
   "cell_type": "code",
   "execution_count": 34,
   "id": "c2a0091f",
   "metadata": {},
   "outputs": [],
   "source": [
    "def ascending(x):\n",
    "    return sorted(x)"
   ]
  },
  {
   "cell_type": "code",
   "execution_count": 35,
   "id": "fefbb173",
   "metadata": {},
   "outputs": [
    {
     "name": "stdout",
     "output_type": "stream",
     "text": [
      "sorted list in ascending order [1, 3, 4, 6, 6, 98]\n"
     ]
    }
   ],
   "source": [
    "x = [4,6,3,1,98,6]\n",
    "print(\"sorted list in ascending order\",ascending(x))"
   ]
  },
  {
   "cell_type": "markdown",
   "id": "1270c91c",
   "metadata": {},
   "source": [
    "### Question 12\n",
    "Write a function that returns the length of a string."
   ]
  },
  {
   "cell_type": "code",
   "execution_count": 36,
   "id": "87f35472",
   "metadata": {},
   "outputs": [],
   "source": [
    "# Your code here\n",
    "def your_function_12():\n",
    "    pass"
   ]
  },
  {
   "cell_type": "code",
   "execution_count": 37,
   "id": "f2469a2a",
   "metadata": {},
   "outputs": [],
   "source": [
    "def compute_len(a):\n",
    "    return len(a)"
   ]
  },
  {
   "cell_type": "code",
   "execution_count": 38,
   "id": "b107a8c5",
   "metadata": {},
   "outputs": [
    {
     "data": {
      "text/plain": [
       "9"
      ]
     },
     "execution_count": 38,
     "metadata": {},
     "output_type": "execute_result"
    }
   ],
   "source": [
    "compute_len(\"malayalam\")"
   ]
  },
  {
   "cell_type": "markdown",
   "id": "9a8e3d28",
   "metadata": {},
   "source": [
    "### Question 13\n",
    "Write a function to count words in a sentence."
   ]
  },
  {
   "cell_type": "code",
   "execution_count": 39,
   "id": "e6f996ef",
   "metadata": {},
   "outputs": [],
   "source": [
    "# Your code here\n",
    "def your_function_13():\n",
    "    pass"
   ]
  },
  {
   "cell_type": "code",
   "execution_count": 40,
   "id": "8d8fbd9c",
   "metadata": {},
   "outputs": [],
   "source": [
    "def count_words(sentence):\n",
    "    words = sentence.split()\n",
    "    return len(words)"
   ]
  },
  {
   "cell_type": "code",
   "execution_count": 41,
   "id": "5cb47136",
   "metadata": {},
   "outputs": [
    {
     "data": {
      "text/plain": [
       "3"
      ]
     },
     "execution_count": 41,
     "metadata": {},
     "output_type": "execute_result"
    }
   ],
   "source": [
    "count_words(\"how are you\")"
   ]
  },
  {
   "cell_type": "markdown",
   "id": "430c2e4a",
   "metadata": {},
   "source": [
    "### Question 14\n",
    "Write a function to convert Celsius to Fahrenheit."
   ]
  },
  {
   "cell_type": "code",
   "execution_count": 42,
   "id": "b710b0bd",
   "metadata": {},
   "outputs": [],
   "source": [
    "# Your code here\n",
    "def your_function_14():\n",
    "    pass"
   ]
  },
  {
   "cell_type": "code",
   "execution_count": 43,
   "id": "a4f29a35",
   "metadata": {},
   "outputs": [],
   "source": [
    "def celsius_to_fahrenheit(c):\n",
    "    fahrenheit = (c*9/5)+32\n",
    "    return fahrenheit"
   ]
  },
  {
   "cell_type": "code",
   "execution_count": 44,
   "id": "5b5d7be3",
   "metadata": {},
   "outputs": [
    {
     "data": {
      "text/plain": [
       "91.4"
      ]
     },
     "execution_count": 44,
     "metadata": {},
     "output_type": "execute_result"
    }
   ],
   "source": [
    " celsius_to_fahrenheit(33)"
   ]
  },
  {
   "cell_type": "markdown",
   "id": "acefe5e3",
   "metadata": {},
   "source": [
    "### Question 15\n",
    "Write a function to check if a number is prime."
   ]
  },
  {
   "cell_type": "code",
   "execution_count": 45,
   "id": "b700abae",
   "metadata": {},
   "outputs": [],
   "source": [
    "# Your code here\n",
    "def your_function_15():\n",
    "    pass"
   ]
  },
  {
   "cell_type": "code",
   "execution_count": 46,
   "id": "38e37994",
   "metadata": {},
   "outputs": [],
   "source": [
    "def prime_number(x):\n",
    "    if x<=1:\n",
    "       return False\n",
    "    for i in range(2,x):\n",
    "       if x%i ==0:\n",
    "        return False\n",
    "    return True\n",
    "\n",
    "\n",
    "\n"
   ]
  },
  {
   "cell_type": "code",
   "execution_count": 47,
   "id": "38585380",
   "metadata": {},
   "outputs": [
    {
     "data": {
      "text/plain": [
       "False"
      ]
     },
     "execution_count": 47,
     "metadata": {},
     "output_type": "execute_result"
    }
   ],
   "source": [
    "prime_number(8)"
   ]
  },
  {
   "cell_type": "code",
   "execution_count": 48,
   "id": "bf773c27",
   "metadata": {},
   "outputs": [
    {
     "data": {
      "text/plain": [
       "True"
      ]
     },
     "execution_count": 48,
     "metadata": {},
     "output_type": "execute_result"
    }
   ],
   "source": [
    "prime_number(7)"
   ]
  },
  {
   "cell_type": "markdown",
   "id": "b63452cb",
   "metadata": {},
   "source": [
    "### Question 16\n",
    "Write a function to return all even numbers in a list."
   ]
  },
  {
   "cell_type": "code",
   "execution_count": 49,
   "id": "9d1fc968",
   "metadata": {},
   "outputs": [],
   "source": [
    "# Your code here\n",
    "def your_function_16():\n",
    "    pass"
   ]
  },
  {
   "cell_type": "code",
   "execution_count": 50,
   "id": "e3939542",
   "metadata": {},
   "outputs": [],
   "source": [
    "def even_number(x):\n",
    "    return [num for num in x if num%2==0]"
   ]
  },
  {
   "cell_type": "code",
   "execution_count": 51,
   "id": "6ce2e3f3",
   "metadata": {},
   "outputs": [
    {
     "name": "stdout",
     "output_type": "stream",
     "text": [
      "even numbers in the list are [2, 56, 8, 90]\n"
     ]
    }
   ],
   "source": [
    "x =[2,5,77,56,3,8,90]\n",
    "print(\"even numbers in the list are\",even_number(x))"
   ]
  },
  {
   "cell_type": "markdown",
   "id": "aca524d9",
   "metadata": {},
   "source": [
    "### Question 17\n",
    "Write a function to return the nth Fibonacci number."
   ]
  },
  {
   "cell_type": "code",
   "execution_count": 52,
   "id": "97dc4e87",
   "metadata": {},
   "outputs": [],
   "source": [
    "# Your code here\n",
    "def your_function_17():\n",
    "    pass"
   ]
  },
  {
   "cell_type": "code",
   "execution_count": 53,
   "id": "4fe68a4c",
   "metadata": {},
   "outputs": [],
   "source": [
    "def fibonacci(n):\n",
    "    if n<=0:\n",
    "        return \"input should be a positive integer\"\n",
    "    elif n==1:\n",
    "        return 0\n",
    "    elif n ==2:\n",
    "        return 1\n",
    "    else:\n",
    "        return fibonacci(n-1)+fibonacci(n-2)"
   ]
  },
  {
   "cell_type": "code",
   "execution_count": 54,
   "id": "bb37d940",
   "metadata": {},
   "outputs": [
    {
     "name": "stdout",
     "output_type": "stream",
     "text": [
      "the fibonacci number is 8\n"
     ]
    }
   ],
   "source": [
    "n=7\n",
    "print(\"the fibonacci number is\",fibonacci(n))"
   ]
  },
  {
   "cell_type": "markdown",
   "id": "29c847dc",
   "metadata": {},
   "source": [
    "### Question 18\n",
    "Write a function to calculate the average of a list."
   ]
  },
  {
   "cell_type": "code",
   "execution_count": 55,
   "id": "9adc9fd2",
   "metadata": {},
   "outputs": [],
   "source": [
    "# Your code here\n",
    "def your_function_18():\n",
    "    pass"
   ]
  },
  {
   "cell_type": "code",
   "execution_count": 56,
   "id": "5f4a289e",
   "metadata": {},
   "outputs": [],
   "source": [
    "def average(x):\n",
    "    return sum(x)/len(x)"
   ]
  },
  {
   "cell_type": "code",
   "execution_count": 57,
   "id": "5f4d6ad1",
   "metadata": {},
   "outputs": [
    {
     "name": "stdout",
     "output_type": "stream",
     "text": [
      "the average of the number is 44.0\n"
     ]
    }
   ],
   "source": [
    "x = [30,77,54,26,12,65]\n",
    "print(\"the average of the number is\",average(x))"
   ]
  },
  {
   "cell_type": "markdown",
   "id": "420240fb",
   "metadata": {},
   "source": [
    "### Question 19\n",
    "Write a function that returns a dictionary of character counts."
   ]
  },
  {
   "cell_type": "code",
   "execution_count": 58,
   "id": "95cafc54",
   "metadata": {},
   "outputs": [],
   "source": [
    "# Your code here\n",
    "def your_function_19():\n",
    "    pass"
   ]
  },
  {
   "cell_type": "code",
   "execution_count": 62,
   "id": "b56a7f76",
   "metadata": {},
   "outputs": [],
   "source": [
    "def char_count(x):\n",
    "    count_dict = {}\n",
    "    for char in x:\n",
    "        if char in count_dict:\n",
    "            count_dict[char] +=1\n",
    "        else:\n",
    "            count_dict[char] =1\n",
    "    return count_dict"
   ]
  },
  {
   "cell_type": "code",
   "execution_count": 63,
   "id": "88cd6eaf",
   "metadata": {},
   "outputs": [
    {
     "data": {
      "text/plain": [
       "{'h': 1, 'o': 2, 'w': 1, ' ': 2, 'a': 1, 'r': 1, 'e': 1, 'y': 1, 'u': 1}"
      ]
     },
     "execution_count": 63,
     "metadata": {},
     "output_type": "execute_result"
    }
   ],
   "source": [
    "char_count(\"how are you\")"
   ]
  },
  {
   "cell_type": "markdown",
   "id": "17629a07",
   "metadata": {},
   "source": [
    "### Question 20\n",
    "Write a function that returns True if all list elements are unique."
   ]
  },
  {
   "cell_type": "code",
   "execution_count": 59,
   "id": "fe4f8820",
   "metadata": {},
   "outputs": [],
   "source": [
    "# Your code here\n",
    "def your_function_20():\n",
    "    pass"
   ]
  },
  {
   "cell_type": "code",
   "execution_count": 60,
   "id": "d98dcba7",
   "metadata": {},
   "outputs": [],
   "source": [
    "def unique(x):\n",
    "    return len(x) ==len(set(x))"
   ]
  },
  {
   "cell_type": "code",
   "execution_count": 61,
   "id": "fea91342",
   "metadata": {},
   "outputs": [
    {
     "data": {
      "text/plain": [
       "True"
      ]
     },
     "execution_count": 61,
     "metadata": {},
     "output_type": "execute_result"
    }
   ],
   "source": [
    "unique([1,4,5,6,7,8])"
   ]
  }
 ],
 "metadata": {
  "kernelspec": {
   "display_name": "Python 3",
   "language": "python",
   "name": "python3"
  },
  "language_info": {
   "codemirror_mode": {
    "name": "ipython",
    "version": 3
   },
   "file_extension": ".py",
   "mimetype": "text/x-python",
   "name": "python",
   "nbconvert_exporter": "python",
   "pygments_lexer": "ipython3",
   "version": "3.13.2"
  }
 },
 "nbformat": 4,
 "nbformat_minor": 5
}
